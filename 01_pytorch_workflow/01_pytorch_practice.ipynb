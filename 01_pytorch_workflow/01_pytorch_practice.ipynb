{
 "cells": [
  {
   "cell_type": "code",
   "execution_count": 12,
   "metadata": {},
   "outputs": [],
   "source": [
    "import torch\n",
    "from torch import nn\n",
    "import matplotlib.pyplot as plt"
   ]
  },
  {
   "cell_type": "markdown",
   "metadata": {},
   "source": [
    "## 1. Create and visualize data"
   ]
  },
  {
   "cell_type": "code",
   "execution_count": 13,
   "metadata": {},
   "outputs": [
    {
     "name": "stdout",
     "output_type": "stream",
     "text": [
      "length of train, test set: 160, 40\n"
     ]
    },
    {
     "data": {
      "image/png": "[encoded data removed]",
      "text/plain": [
       "<Figure size 1000x600 with 1 Axes>"
      ]
     },
     "metadata": {},
     "output_type": "display_data"
    }
   ],
   "source": [
    "# Create a straight line dataset using the linear regression formula (weight * X + bias).\n",
    "# Set weight=0.3 and bias=0.9 there should be at least 100 datapoints total.\n",
    "# Split the data into 80% training, 20% testing.\n",
    "# Plot the training and testing data so it becomes visual.\n",
    "\n",
    "# create data\n",
    "weight = 0.3\n",
    "bias = 0.9\n",
    "start = 0\n",
    "end = 1\n",
    "step = 0.005\n",
    "X = torch.arange(start, end, step, dtype=torch.float)\n",
    "y = weight * X + bias\n",
    "\n",
    "# split data\n",
    "train_split = int(len(X) * 0.8)\n",
    "X_train, y_train = X[:train_split], y[:train_split]\n",
    "X_test, y_test = X[train_split:], y[train_split:]\n",
    "print(f'length of train, test set: {len(X_train)}, {len(X_test)}')\n",
    "\n",
    "# visualize data\n",
    "def plot_prediction(train_data = X_train,\n",
    "                    train_labels = y_train,\n",
    "                    test_data = X_test,\n",
    "                    test_labels = y_test,\n",
    "                    predictions = None):\n",
    "    # set figure size\n",
    "    plt.figure(figsize=(10, 6))\n",
    "    # plot train data\n",
    "    plt.scatter(train_data, train_labels, s = 4, c = 'b', label = 'Train Data')\n",
    "    # plot test data\n",
    "    plt.scatter(test_data, test_labels, s = 4, c = 'g', label = 'Test Data')\n",
    "\n",
    "    # plot predictions if it exists\n",
    "    if predictions is not None:\n",
    "        plt.scatter(test_data, predictions, s = 4, c = 'r', label = 'Predictions')\n",
    "\n",
    "    plt.legend(prop = ({'size': 14}))\n",
    "\n",
    "plot_prediction()\n"
   ]
  },
  {
   "cell_type": "markdown",
   "metadata": {},
   "source": [
    "## 2. Create model "
   ]
  },
  {
   "cell_type": "code",
   "execution_count": 14,
   "metadata": {},
   "outputs": [],
   "source": [
    "\n",
    "# Build a PyTorch model by subclassing nn.Module.\n",
    "# Inside should be a randomly initialized nn.Parameter() with requires_grad=True, one for weights and one for bias.\n",
    "# Implement the forward() method to compute the linear regression function you used to create the dataset in 1.\n",
    "# Once you've constructed the model, make an instance of it and check its state_dict().\n",
    "# Note: If you'd like to use nn.Linear() instead of nn.Parameter() you can.\n",
    "\n",
    "class LinearRegressionModel(nn.Module):\n",
    "    def __init__(self):\n",
    "        super().__init__()\n",
    "\n",
    "        # parameters \n",
    "        self.weights = nn.Parameter(torch.randn(1, dtype=float), requires_grad= True)\n",
    "        self.bias = nn.Parameter(torch.randn(1, dtype=float), requires_grad= True)\n",
    "\n",
    "    def forward(self, X: torch.Tensor) -> torch.Tensor:\n",
    "        return X * self.weights + self.bias"
   ]
  },
  {
   "cell_type": "code",
   "execution_count": 15,
   "metadata": {},
   "outputs": [
    {
     "data": {
      "text/plain": [
       "OrderedDict([('weights', tensor([1.8085], dtype=torch.float64)),\n",
       "             ('bias', tensor([-0.7284], dtype=torch.float64))])"
      ]
     },
     "execution_count": 15,
     "metadata": {},
     "output_type": "execute_result"
    }
   ],
   "source": [
    "model = LinearRegressionModel()\n",
    "model.state_dict()"
   ]
  },
  {
   "cell_type": "markdown",
   "metadata": {},
   "source": [
    "## 3. Create loss function and optimizer"
   ]
  },
  {
   "cell_type": "code",
   "execution_count": 16,
   "metadata": {},
   "outputs": [],
   "source": [
    "# Create a loss function and optimizer using nn.L1Loss() and torch.optim.SGD(params, lr) respectively.\n",
    "# Set the learning rate of the optimizer to be 0.01 and the parameters to optimize should be the model parameters from the model you created in 2.\n",
    "# Write a training loop to perform the appropriate training steps for 300 epochs.\n",
    "# The training loop should test the model on the test dataset every 20 epochs.\n",
    "\n",
    "loss_fn  = nn.L1Loss()\n",
    "optimizer = torch.optim.SGD(params= model.parameters(),\n",
    "                            lr = 0.01)"
   ]
  },
  {
   "cell_type": "code",
   "execution_count": 29,
   "metadata": {},
   "outputs": [
    {
     "name": "stdout",
     "output_type": "stream",
     "text": [
      "Epoch 0 | Train loss: 0.006566594335075384 | Test loss 0.003315574257056564\n",
      "Epoch 20 | Train loss: 0.006566594335075384 | Test loss 0.003315574257056564\n",
      "Epoch 40 | Train loss: 0.006566594335075384 | Test loss 0.003315574257056564\n",
      "Epoch 60 | Train loss: 0.006566594335075384 | Test loss 0.003315574257056564\n",
      "Epoch 80 | Train loss: 0.006566594335075384 | Test loss 0.003315574257056564\n",
      "Epoch 100 | Train loss: 0.006566594335075384 | Test loss 0.003315574257056564\n",
      "Epoch 120 | Train loss: 0.006566594335075384 | Test loss 0.003315574257056564\n",
      "Epoch 140 | Train loss: 0.006566594335075384 | Test loss 0.003315574257056564\n",
      "Epoch 160 | Train loss: 0.006566594335075384 | Test loss 0.003315574257056564\n",
      "Epoch 180 | Train loss: 0.006566594335075384 | Test loss 0.003315574257056564\n",
      "Epoch 200 | Train loss: 0.006566594335075384 | Test loss 0.003315574257056564\n",
      "Epoch 220 | Train loss: 0.006566594335075384 | Test loss 0.003315574257056564\n",
      "Epoch 240 | Train loss: 0.006566594335075384 | Test loss 0.003315574257056564\n",
      "Epoch 260 | Train loss: 0.006566594335075384 | Test loss 0.003315574257056564\n",
      "Epoch 280 | Train loss: 0.006566594335075384 | Test loss 0.003315574257056564\n"
     ]
    }
   ],
   "source": [
    "epochs = 300\n",
    "for i in range(epochs):\n",
    "    \n",
    "    # train model\n",
    "    model.train()\n",
    "    # make train predictions\n",
    "    y_preds = model(X_train)\n",
    "    # calculate loss\n",
    "    loss = loss_fn(y_preds, y_train)\n",
    "    # optimize zero grad\n",
    "    optimizer.zero_grad()\n",
    "    # loss backward, compute the gradients\n",
    "    loss.backward()\n",
    "    # update the weight and bias\n",
    "    optimizer.step()\n",
    "\n",
    "    # Testing\n",
    "    # put the model into evaulation mode\n",
    "    model.eval()\n",
    "    \n",
    "    if i % 20 == 0:\n",
    "        with torch.inference_mode():\n",
    "            y_preds = model(X_test)\n",
    "            test_loss = loss_fn(y_preds, y_test)\n",
    "\n",
    "            print(f'Epoch {i} | Train loss: {loss} | Test loss {test_loss}')"
   ]
  },
  {
   "cell_type": "markdown",
   "metadata": {},
   "source": [
    "## 4. Make predictions"
   ]
  },
  {
   "cell_type": "code",
   "execution_count": 30,
   "metadata": {},
   "outputs": [
    {
     "data": {
      "image/png": "[encoded data removed]",
      "text/plain": [
       "<Figure size 1000x600 with 1 Axes>"
      ]
     },
     "metadata": {},
     "output_type": "display_data"
    }
   ],
   "source": [
    "# Make predictions with the trained model on the test data.\n",
    "# Visualize these predictions against the original training and testing data (note: you may need to make sure \n",
    "# the predictions are not on the GPU if you want to use non-CUDA-enabled libraries such as matplotlib to plot).\n",
    "with torch.inference_mode():\n",
    "    y_preds = model(X_test)\n",
    "    plot_prediction(predictions=y_preds)\n"
   ]
  },
  {
   "cell_type": "markdown",
   "metadata": {},
   "source": [
    "## 5. Save the model "
   ]
  },
  {
   "cell_type": "code",
   "execution_count": 19,
   "metadata": {},
   "outputs": [
    {
     "name": "stdout",
     "output_type": "stream",
     "text": [
      "Saving model to: models\\01_pytorch_practice_model_v0.pth\n"
     ]
    }
   ],
   "source": [
    "from pathlib import Path\n",
    "\n",
    "# 1. Create models directory \n",
    "MODEL_PATH = Path(\"models\")\n",
    "MODEL_PATH.mkdir(parents=True, exist_ok=True)\n",
    "\n",
    "# 2. Create model save path \n",
    "MODEL_NAME = \"01_pytorch_practice_model_v0.pth\"\n",
    "MODEL_SAVE_PATH = MODEL_PATH / MODEL_NAME\n",
    "\n",
    "# 3. Save the model state dict \n",
    "print(f\"Saving model to: {MODEL_SAVE_PATH}\")\n",
    "torch.save(obj=model.state_dict(), # only saving the state_dict() only saves the models learned parameters\n",
    "           f=MODEL_SAVE_PATH)\n"
   ]
  },
  {
   "cell_type": "code",
   "execution_count": 20,
   "metadata": {},
   "outputs": [
    {
     "data": {
      "text/plain": [
       "OrderedDict([('weights', tensor([1.7368], dtype=torch.float64)),\n",
       "             ('bias', tensor([0.2825], dtype=torch.float64))])"
      ]
     },
     "execution_count": 20,
     "metadata": {},
     "output_type": "execute_result"
    }
   ],
   "source": [
    "model.state_dict()"
   ]
  },
  {
   "cell_type": "code",
   "execution_count": null,
   "metadata": {},
   "outputs": [],
   "source": []
  }
 ],
 "metadata": {
  "kernelspec": {
   "display_name": "pytorch",
   "language": "python",
   "name": "python3"
  },
  "language_info": {
   "codemirror_mode": {
    "name": "ipython",
    "version": 3
   },
   "file_extension": ".py",
   "mimetype": "text/x-python",
   "name": "python",
   "nbconvert_exporter": "python",
   "pygments_lexer": "ipython3",
   "version": "3.12.1"
  }
 },
 "nbformat": 4,
 "nbformat_minor": 2
}
